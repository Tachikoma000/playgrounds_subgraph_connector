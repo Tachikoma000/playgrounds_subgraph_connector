{
 "cells": [
  {
   "cell_type": "markdown",
   "metadata": {},
   "source": [
    "# OpenAIAgent with Playgrounds Subgraph Inspector\n",
    "\n",
    "The `PlaygroundsSubgraphInspectorToolSpec` is a tool designed for LLM agnets to seamlessly interface, query, introspect and analyze the schema of any subgraphs deployed on The Graph's decentralized network.\n",
    "\n",
    "Queries are facilitated via the [Playgrounds API](https://playgrounds.network/).\n",
    "\n",
    "Playgrounds API is a service provided by [Playgrounds Analytics](https://playgrounds.network) to streamline interfacing with decentralized subgraphs (indexed blockchain datasets).\n",
    "\n",
    "## Benefits:\n",
    "\n",
    "- **Seamless Integration with Decentralized Subgraphs**: Access decentralized datasets without the complexities of wallet or GRT management.\n",
    "- **OpenAI x Blockchain Data**: Harness the power of OpenAI's language models to interpret and analyze blockchain data.\n",
    "- **Rich Context**: Introspection provides the LLM agents with rich contextual understanding on subgraphs being queried. This in turn enhances the agents ability to generate insights on the underlying dataset indexed by the subgraph.\n",
    "\n",
    "## How it works:\n",
    "\n",
    "This tool has been designed to function seamlessly with [Llama index](https://github.com/jerryjliu/llama_index) or [langchain](https://python.langchain.com/docs/modules/agents/tools/custom_tools).\n",
    "\n",
    "The OpenAIAgent, when used with the `PlaygroundsSubgraphInspectorToolSpec`, offers a robust method to fetch and decipher data from decentralized subgraphs.\n",
    "\n",
    "**Requirements**:\n",
    "- An OpenAI API key.\n",
    "- [A Playgrounds API key](https://app.playgrounds.network/signup)\n",
    "- [A subgraph identifier or deployment ID](https://thegraph.com/explorer)\n",
    "\n",
    "## Basic Usage\n",
    "\n",
    "Let's try introspecting the Uniswap V3 subgraph."
   ]
  },
  {
   "cell_type": "code",
   "execution_count": 5,
   "metadata": {},
   "outputs": [],
   "source": [
    "import openai\n",
    "from llama_index.agent import OpenAIAgent\n",
    "from base import PlaygroundsSubgraphInspectorToolSpec\n",
    "\n",
    "def inspect_subgraph(\n",
    "    openai_api_key: str,\n",
    "    playgrounds_api_key: str,\n",
    "    identifier: str,\n",
    "    use_deployment_id: bool,\n",
    "    user_prompt: str\n",
    "):\n",
    "    \"\"\"\n",
    "    Introspect a subgraph using OpenAIAgent and Playgrounds API with the provided parameters.\n",
    "    \n",
    "    Args:\n",
    "        openai_api_key (str): API key for OpenAI.\n",
    "        playgrounds_api_key (str): API key for Playgrounds.\n",
    "        identifier (str): Identifier for the subgraph or deployment.\n",
    "        use_deployment_id (bool): If True, uses deployment ID in the URL.\n",
    "        user_prompt (str): User's question or prompt for the agent.\n",
    "        \n",
    "    Returns:\n",
    "        str: Agent's response.\n",
    "    \"\"\"\n",
    "    # Set the OpenAI API key\n",
    "    openai.api_key = openai_api_key\n",
    "    \n",
    "    # Initialize the introspector with the provided parameters\n",
    "    inspector_spec = PlaygroundsSubgraphInspectorToolSpec(\n",
    "        identifier=identifier, \n",
    "        api_key=playgrounds_api_key, \n",
    "        use_deployment_id=use_deployment_id\n",
    "    )\n",
    "    \n",
    "    # Integrate the tool with the agent\n",
    "    agent = OpenAIAgent.from_tools(inspector_spec.to_tool_list())\n",
    "    \n",
    "    # Send the user prompt to the agent\n",
    "    response = agent.chat(user_prompt)\n",
    "    return response\n"
   ]
  },
  {
   "cell_type": "markdown",
   "metadata": {},
   "source": [
    "### Example #1 : Summarize entire subgraph"
   ]
  },
  {
   "cell_type": "code",
   "execution_count": 6,
   "metadata": {},
   "outputs": [
    {
     "name": "stdout",
     "output_type": "stream",
     "text": [
      "To understand the usage of Uniswap V3, you can explore the following entities:\n",
      "\n",
      "1. Account: Provides information about user accounts, including position counts, deposit counts, borrow counts, and more.\n",
      "\n",
      "2. LendingProtocol: Gives details about the lending protocol, such as the schema version, subgraph version, methodology version, total value locked, cumulative revenue, and more.\n",
      "\n",
      "3. Market: Contains information about individual markets in Uniswap V3, including token pairs, total value locked, deposit and borrow balances, liquidity index, and more.\n",
      "\n",
      "4. Protocol: Provides an overview of the Uniswap V3 protocol, including the schema version, subgraph version, methodology version, total value locked, cumulative revenue, and more.\n",
      "\n",
      "5. Query: Allows you to query specific entities based on various parameters, such as reward tokens, interest rates, lending protocols, usage metrics, financials, and more.\n",
      "\n",
      "6. Subscription: Similar to the Query entity, it allows you to subscribe to specific entities based on parameters like reward tokens, interest rates, lending protocols, usage metrics, financials, and more.\n",
      "\n",
      "Additionally, there are other entities like Borrow, Deposit, FinancialsDailySnapshot, InterestRate, Liquidate, MarketDailySnapshot, MarketHourlySnapshot, Position, PositionCounter, PositionSnapshot, Repay, Token, UsageMetricsDailySnapshot, UsageMetricsHourlySnapshot, Withdraw, and _Meta_ that provide more specific information about borrowing, lending, market snapshots, usage metrics, and more.\n",
      "\n",
      "You can use these entities to gain insights into the usage and performance of Uniswap V3.\n"
     ]
    }
   ],
   "source": [
    "# Subgraph summary\n",
    "result = inspect_subgraph(\n",
    "    openai_api_key='YOUR_OPENAI_API_KEY',\n",
    "    playgrounds_api_key=\"YOUR_PLAYGROUNDS_API_KEY\",\n",
    "    identifier=\"YOUR_SUBGRAPH_OR_DEPLOYMENT_IDENTIFIER\",\n",
    "    use_deployment_id=False,\n",
    "    user_prompt='Which entities will help me understand the usage of Uniswap V3'\n",
    ")\n",
    "print(result)"
   ]
  },
  {
   "cell_type": "markdown",
   "metadata": {},
   "source": [
    "### Example #2: Insights on subgraph fields"
   ]
  },
  {
   "cell_type": "code",
   "execution_count": 7,
   "metadata": {},
   "outputs": [
    {
     "name": "stdout",
     "output_type": "stream",
     "text": [
      "To understand the usage of the protocol, you can use the following fields:\n",
      "\n",
      "1. For the Account entity:\n",
      "   - positionCount: The total number of positions held by the account.\n",
      "   - openPositionCount: The number of open positions held by the account.\n",
      "   - closedPositionCount: The number of closed positions held by the account.\n",
      "   - depositCount: The total number of deposits made by the account.\n",
      "   - withdrawCount: The total number of withdrawals made by the account.\n",
      "   - borrowCount: The total number of borrowings made by the account.\n",
      "   - repayCount: The total number of repayments made by the account.\n",
      "   - liquidateCount: The total number of liquidations made by the account.\n",
      "   - liquidationCount: The total number of times the account has been liquidated.\n",
      "   - enabledCollaterals: The collaterals enabled for the account.\n",
      "\n",
      "2. For the LendingProtocol entity:\n",
      "   - schemaVersion: The version of the protocol's schema.\n",
      "   - subgraphVersion: The version of the subgraph.\n",
      "   - methodologyVersion: The version of the protocol's methodology.\n",
      "   - lendingType: The type of lending supported by the protocol.\n",
      "   - riskType: The risk type associated with the protocol.\n",
      "   - mintedTokens: The tokens minted by the protocol.\n",
      "   - cumulativeUniqueUsers: The cumulative number of unique users of the protocol.\n",
      "   - cumulativeUniqueDepositors: The cumulative number of unique depositors in the protocol.\n",
      "   - cumulativeUniqueBorrowers: The cumulative number of unique borrowers in the protocol.\n",
      "   - cumulativeUniqueLiquidators: The cumulative number of unique liquidators in the protocol.\n",
      "   - cumulativeUniqueLiquidatees: The cumulative number of unique liquidatees in the protocol.\n",
      "   - totalValueLockedUSD: The total value locked in the protocol in USD.\n",
      "   - protocolControlledValueUSD: The value controlled by the protocol in USD.\n",
      "   - cumulativeSupplySideRevenueUSD: The cumulative supply-side revenue generated by the protocol in USD.\n",
      "   - cumulativeProtocolSideRevenueUSD: The cumulative protocol-side revenue generated by the protocol in USD.\n",
      "   - cumulativeTotalRevenueUSD: The cumulative total revenue generated by the protocol in USD.\n",
      "   - totalDepositBalanceUSD: The total deposit balance in the protocol in USD.\n",
      "   - cumulativeDepositUSD: The cumulative deposit amount in the protocol in USD.\n",
      "   - totalBorrowBalanceUSD: The total borrow balance in the protocol in USD.\n",
      "   - cumulativeBorrowUSD: The cumulative borrow amount in the protocol in USD.\n",
      "   - cumulativeLiquidateUSD: The cumulative liquidate amount in the protocol in USD.\n",
      "   - mintedTokenSupplies: The supplies of minted tokens in the protocol.\n",
      "   - totalPoolCount: The total number of pools in the protocol.\n",
      "   - openPositionCount: The number of open positions in the protocol.\n",
      "   - cumulativePositionCount: The cumulative number of positions in the protocol.\n",
      "   - dailyUsageMetrics: The daily usage metrics of the protocol.\n",
      "   - hourlyUsageMetrics: The hourly usage metrics of the protocol.\n",
      "   - financialMetrics: The financial metrics of the protocol.\n",
      "   - priceOracle: The price oracle used by the protocol.\n",
      "   - marketIDs: The IDs of the markets associated with the protocol.\n",
      "\n",
      "3. For the Market entity:\n",
      "   - isActive: Indicates if the market is active.\n",
      "   - canUseAsCollateral: Indicates if the market can be used as collateral.\n",
      "   - canBorrowFrom: Indicates if borrowing is allowed from the market.\n",
      "   - maximumLTV: The maximum loan-to-value ratio for the market.\n",
      "   - liquidationThreshold: The liquidation threshold for the market.\n",
      "   - liquidationPenalty: The penalty applied during liquidation in the market.\n",
      "   - inputToken: The input token of the market.\n",
      "   - outputToken: The output token of the market.\n",
      "   - rewardTokens: The tokens rewarded in the market.\n",
      "   - totalValueLockedUSD: The total value locked in the market in USD.\n",
      "   - cumulativeSupplySideRevenueUSD: The cumulative supply-side revenue generated in the market in USD.\n",
      "   - cumulativeProtocolSideRevenueUSD: The cumulative protocol-side revenue generated in the market in USD.\n",
      "   - cumulativeTotalRevenueUSD: The cumulative total revenue generated in the market in USD.\n",
      "   - totalDepositBalanceUSD: The total deposit balance in the market in USD.\n",
      "   - cumulativeDepositUSD: The cumulative deposit amount in the market in USD.\n",
      "   - totalBorrowBalanceUSD: The total borrow balance in the market in USD.\n",
      "   - cumulativeBorrowUSD: The cumulative borrow amount in the market in USD.\n",
      "   - cumulativeLiquidateUSD: The cumulative liquidate amount in the market in USD.\n",
      "   - inputTokenBalance: The balance of the input token in the market.\n",
      "   - inputTokenPriceUSD: The price of the input token in USD.\n",
      "   - outputTokenSupply: The supply of the output token in the market.\n",
      "   - outputTokenPriceUSD: The price of the output token in USD.\n",
      "   - exchangeRate: The exchange rate between the input and output tokens.\n",
      "   - rewardTokenEmissionsAmount: The amount of reward tokens emitted in the market.\n",
      "   - rewardTokenEmissionsUSD: The value of reward tokens emitted in the market.\n",
      "   - createdTimestamp: The timestamp when the market was created.\n",
      "   - createdBlockNumber: The block number when the market was created.\n",
      "   - positionCount: The total number of positions in the market.\n",
      "   - openPositionCount: The number of open positions in the market.\n",
      "   - closedPositionCount: The number of closed positions in the market.\n",
      "   - lendingPositionCount: The number of lending positions in the market.\n",
      "   - borrowingPositionCount: The number of borrowing positions in the market.\n",
      "   - dailySnapshots: The daily snapshots of the market.\n",
      "   - hourlySnapshots: The hourly snapshots of the market.\n",
      "   - reserveFactor: The reserve factor of the market.\n",
      "   - totalStableValueLocked: The total stable value locked in the market.\n",
      "   - totalVariableValueLocked: The total variable value locked in the market.\n",
      "   - vToken: The vToken associated with the market.\n",
      "   - sToken: The sToken associated with the market.\n",
      "   - liquidityIndex: The liquidity index of the market.\n",
      "   - prePauseState: The pre-pause state of the market.\n",
      "   - lastRewardsUpdated: The timestamp when the rewards were last updated in the market.\n",
      "\n",
      "4. For the Protocol entity:\n",
      "   - schemaVersion: The version of the protocol's schema.\n",
      "   - subgraphVersion: The version of the subgraph.\n",
      "   - methodologyVersion: The version of the protocol's methodology.\n",
      "   - totalValueLockedUSD: The total value locked in the protocol in USD.\n",
      "   - protocolControlledValueUSD: The value controlled by the protocol in USD.\n",
      "   - cumulativeUniqueUsers: The cumulative number of unique users of the protocol.\n",
      "   - cumulativeSupplySideRevenueUSD: The cumulative supply-side revenue generated by the protocol in USD.\n",
      "   - cumulativeProtocolSideRevenueUSD: The cumulative protocol-side revenue generated by the protocol in USD.\n",
      "   - cumulativeTotalRevenueUSD: The cumulative total revenue generated by the protocol in USD.\n",
      "   - totalPoolCount: The total number of pools in the protocol.\n",
      "   - dailyUsageMetrics: The daily usage metrics of the protocol.\n",
      "   - hourlyUsageMetrics: The hourly usage metrics of the protocol.\n",
      "   - financialMetrics: The financial metrics of the protocol.\n",
      "\n",
      "Please note that these fields may require specific arguments (like an ID) to fetch data for a specific entity.\n"
     ]
    }
   ],
   "source": [
    "# Field summary\n",
    "result = inspect_subgraph(\n",
    "    openai_api_key='YOUR_OPENAI_API_KEY',\n",
    "    playgrounds_api_key=\"YOUR_PLAYGROUNDS_API_KEY\",\n",
    "    identifier=\"YOUR_SUBGRAPH_OR_DEPLOYMENT_IDENTIFIER\",\n",
    "    use_deployment_id=False,\n",
    "    user_prompt='which fields will help me understand the usage of the protocol'\n",
    ")\n",
    "print(result)"
   ]
  },
  {
   "cell_type": "markdown",
   "metadata": {},
   "source": [
    "### Example #3: Query Construction"
   ]
  },
  {
   "cell_type": "code",
   "execution_count": 8,
   "metadata": {},
   "outputs": [
    {
     "name": "stdout",
     "output_type": "stream",
     "text": [
      "To query the financial daily snapshots, you can use the following GraphQL query:\n",
      "\n",
      "```graphql\n",
      "query {\n",
      "  financialDailySnapshots {\n",
      "    date\n",
      "    open\n",
      "    high\n",
      "    low\n",
      "    close\n",
      "    volume\n",
      "  }\n",
      "}\n",
      "```\n",
      "\n",
      "This query will retrieve the date, open price, high price, low price, closing price, and volume for each financial daily snapshot. You can customize the query to include additional fields or filter the results based on specific criteria.\n"
     ]
    }
   ],
   "source": [
    "# Query generation\n",
    "result = inspect_subgraph(\n",
    "    openai_api_key='YOUR_OPENAI_API_KEY',\n",
    "    playgrounds_api_key=\"YOUR_PLAYGROUNDS_API_KEY\",\n",
    "    identifier=\"YOUR_SUBGRAPH_OR_DEPLOYMENT_IDENTIFIER\",\n",
    "    use_deployment_id=False,\n",
    "    user_prompt='how can i query the financial daily snapshots?'\n",
    ")\n",
    "print(result)"
   ]
  },
  {
   "cell_type": "markdown",
   "metadata": {},
   "source": [
    "### Example #4: Insights"
   ]
  },
  {
   "cell_type": "code",
   "execution_count": 9,
   "metadata": {},
   "outputs": [
    {
     "name": "stdout",
     "output_type": "stream",
     "text": [
      "The financial daily snapshot can provide various metrics and insights related to financial performance. Some of the common metrics and insights that can be derived from the financial daily snapshot include:\n",
      "\n",
      "1. Revenue: The snapshot can provide information on the total revenue generated by the company on a daily basis. This helps in tracking the company's sales performance.\n",
      "\n",
      "2. Expenses: It can provide details on the daily expenses incurred by the company, including costs related to operations, salaries, marketing, etc. This helps in monitoring and controlling expenses.\n",
      "\n",
      "3. Profit/Loss: By comparing the revenue and expenses, the snapshot can calculate the daily profit or loss. This metric helps in assessing the financial health of the company.\n",
      "\n",
      "4. Cash Flow: The snapshot can provide insights into the daily cash inflows and outflows. This helps in managing liquidity and understanding the company's ability to meet short-term obligations.\n",
      "\n",
      "5. Key Financial Ratios: The snapshot can calculate important financial ratios such as gross profit margin, net profit margin, return on assets, return on equity, etc. These ratios provide insights into the company's profitability, efficiency, and financial stability.\n",
      "\n",
      "6. Trends and Patterns: By analyzing the daily snapshots over time, trends and patterns can be identified. This helps in understanding the company's financial performance and making informed decisions.\n",
      "\n",
      "7. Financial Forecasting: The daily snapshots can be used to project future financial performance based on historical data. This helps in budgeting, planning, and setting financial goals.\n",
      "\n",
      "8. Variance Analysis: By comparing the actual financial data in the snapshot with the budgeted or expected values, variance analysis can be performed. This helps in identifying areas of improvement or potential risks.\n",
      "\n",
      "9. Key Performance Indicators (KPIs): The snapshot can track and display various KPIs such as sales growth rate, customer acquisition cost, customer churn rate, inventory turnover, etc. These KPIs provide insights into the company's operational and financial performance.\n",
      "\n",
      "10. Financial Benchmarking: The snapshot can be used to compare the company's financial performance with industry benchmarks or competitors. This helps in identifying areas where the company is performing well or lagging behind.\n",
      "\n",
      "These metrics and insights derived from the financial daily snapshot can assist in monitoring and managing the financial performance of a company, making informed decisions, and driving business growth.\n"
     ]
    }
   ],
   "source": [
    "# Example usage\n",
    "result = inspect_subgraph(\n",
    "    openai_api_key='YOUR_OPENAI_API_KEY',\n",
    "    playgrounds_api_key=\"YOUR_PLAYGROUNDS_API_KEY\",\n",
    "    identifier=\"YOUR_SUBGRAPH_OR_DEPLOYMENT_IDENTIFIER\",\n",
    "    use_deployment_id=False,\n",
    "    user_prompt='what kind of metrics or insights can i get from the finanacial daily snapshot'\n",
    ")\n",
    "print(result)"
   ]
  }
 ],
 "metadata": {
  "kernelspec": {
   "display_name": "Python 3.11.2 64-bit ('3.11.2')",
   "language": "python",
   "name": "python3"
  },
  "language_info": {
   "codemirror_mode": {
    "name": "ipython",
    "version": 3
   },
   "file_extension": ".py",
   "mimetype": "text/x-python",
   "name": "python",
   "nbconvert_exporter": "python",
   "pygments_lexer": "ipython3",
   "version": "3.11.2"
  },
  "orig_nbformat": 4,
  "vscode": {
   "interpreter": {
    "hash": "88c96ceba7757d40e12ef60fbd04d2f2e308670a2726c8fd77b635fca44a0626"
   }
  }
 },
 "nbformat": 4,
 "nbformat_minor": 2
}
